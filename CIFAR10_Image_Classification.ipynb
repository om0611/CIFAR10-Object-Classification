{
  "nbformat": 4,
  "nbformat_minor": 0,
  "metadata": {
    "colab": {
      "provenance": [],
      "gpuType": "T4"
    },
    "kernelspec": {
      "name": "python3",
      "display_name": "Python 3"
    },
    "language_info": {
      "name": "python"
    },
    "accelerator": "GPU"
  },
  "cells": [
    {
      "cell_type": "code",
      "execution_count": 17,
      "metadata": {
        "id": "k95CqlY24gm1"
      },
      "outputs": [],
      "source": [
        "import torch\n",
        "import numpy as np\n",
        "import torch.nn as nn\n",
        "import torch.nn.functional as F\n",
        "import torch.optim as optim\n",
        "import matplotlib.pyplot as plt\n",
        "from torchvision import datasets, transforms\n",
        "from torch.utils.data import DataLoader\n",
        "from tqdm import tqdm"
      ]
    },
    {
      "cell_type": "code",
      "source": [
        "# Load and Normalize the data\n",
        "t = transforms.Compose([transforms.ToTensor(),\n",
        "                        transforms.Normalize(mean=(0.5, 0.5, 0.5), std=(0.5, 0.5, 0.5))])   # means and std for each channel\n",
        "\n",
        "train_data = datasets.CIFAR10(root='CIFAR10_Dataset', train=True, download = True, transform=t)\n",
        "test_data = datasets.CIFAR10(root='CIFAR10_Dataset', train=False, download = False, transform=t)"
      ],
      "metadata": {
        "colab": {
          "base_uri": "https://localhost:8080/"
        },
        "id": "umY5A8WJgMNY",
        "outputId": "06ea057c-a0f2-4994-cf25-66c19c360959"
      },
      "execution_count": 18,
      "outputs": [
        {
          "output_type": "stream",
          "name": "stdout",
          "text": [
            "Files already downloaded and verified\n"
          ]
        }
      ]
    },
    {
      "cell_type": "code",
      "source": [
        "train_loader = DataLoader(dataset=train_data, batch_size=100, shuffle=True)\n",
        "test_loader = DataLoader(dataset=test_data, batch_size=100, shuffle=True)"
      ],
      "metadata": {
        "id": "xI-DYRNcG4bb"
      },
      "execution_count": 19,
      "outputs": []
    },
    {
      "cell_type": "code",
      "source": [
        "classes = ('plane', 'car', 'bird', 'cat', 'deer', 'dog', 'frog', 'horse', 'ship', 'truck')"
      ],
      "metadata": {
        "id": "VjdaU_8bsUxq"
      },
      "execution_count": 20,
      "outputs": []
    },
    {
      "cell_type": "code",
      "source": [
        "# Visualizing the normalized data\n",
        "img, label = train_data[15]\n",
        "plt.imshow(img.permute(1, 2, 0))\n",
        "print(classes[label])"
      ],
      "metadata": {
        "colab": {
          "base_uri": "https://localhost:8080/",
          "height": 466
        },
        "id": "XTB1zX6cs4Nl",
        "outputId": "7b5ffac1-03a6-45a0-9b27-94852bef9ff5"
      },
      "execution_count": 21,
      "outputs": [
        {
          "output_type": "stream",
          "name": "stderr",
          "text": [
            "WARNING:matplotlib.image:Clipping input data to the valid range for imshow with RGB data ([0..1] for floats or [0..255] for integers).\n"
          ]
        },
        {
          "output_type": "stream",
          "name": "stdout",
          "text": [
            "truck\n"
          ]
        },
        {
          "output_type": "display_data",
          "data": {
            "text/plain": [
              "<Figure size 640x480 with 1 Axes>"
            ],
            "image/png": "[encoded data removed]"
          },
          "metadata": {}
        }
      ]
    },
    {
      "cell_type": "code",
      "source": [
        "for img, label in train_loader:\n",
        "    print(img.shape)\n",
        "    print(label.shape)\n",
        "    break"
      ],
      "metadata": {
        "colab": {
          "base_uri": "https://localhost:8080/"
        },
        "id": "OUsQAwpSHXra",
        "outputId": "49e8baae-9308-46f8-bbf6-cbfdd8ac454e"
      },
      "execution_count": 22,
      "outputs": [
        {
          "output_type": "stream",
          "name": "stdout",
          "text": [
            "torch.Size([100, 3, 32, 32])\n",
            "torch.Size([100])\n"
          ]
        }
      ]
    },
    {
      "cell_type": "code",
      "source": [
        "# Regular Neural Network\n",
        "class ImageClassifier(nn.Module):\n",
        "\n",
        "    def __init__(self):\n",
        "        super(ImageClassifier, self).__init__()\n",
        "        self.layer1 = nn.Linear(32*32*3, 512)\n",
        "        self.layer2 = nn.Linear(512, 256)\n",
        "        self.layer3 = nn.Linear(256, 10)\n",
        "        self.dropout1 = nn.Dropout(0.4)     # Drop out 40% of the neurons\n",
        "        self.dropout2 = nn.Dropout(0.4)\n",
        "        self.dropout3 = nn.Dropout(0.4)\n",
        "        self.batch_norm1 = nn.BatchNorm1d(512)      # Normalize the output from layer 1\n",
        "        self.batch_norm2 = nn.BatchNorm1d(256)      # Normalize the output from layer 2\n",
        "\n",
        "    def forward(self, img_batch):\n",
        "        activation1 = F.relu(self.batch_norm1(self.layer1(self.dropout1(img_batch))))\n",
        "        activation2 = F.relu(self.batch_norm2(self.layer2(self.dropout2(activation1))))\n",
        "        output = self.layer3(self.dropout3(activation2))\n",
        "        return output\n",
        "\n",
        "# Convolutional Neural Network\n",
        "class ImageClassifier2(nn.Module):\n",
        "\n",
        "    def __init__(self):\n",
        "        super(ImageClassifier2, self).__init__()\n",
        "        self.conv1 = nn.Conv2d(in_channels=3, out_channels=16, kernel_size=3, padding=1)\n",
        "        # 32 + 2(1) - 3 + 1 = 32  (see formula in pytorch documentation)\n",
        "        self.pool = nn.MaxPool2d(kernel_size=2, stride=2)\n",
        "        # 32 / 2 = 16\n",
        "        self.conv2 = nn.Conv2d(in_channels=16, out_channels=32, kernel_size=3, padding=1)\n",
        "        # 16 + 2(1) - 3 + 1 = 16\n",
        "        # pooling layer: 16 / 2 = 8\n",
        "        self.conv3 = nn.Conv2d(in_channels=32, out_channels=64, kernel_size=3, padding=1)\n",
        "        # 8 + 2(1) - 3 + 1 = 8\n",
        "        # pooling layer: 8 / 2 = 4\n",
        "        # final shape = (100, 64, 4, 4)\n",
        "        self.linear1 = nn.Linear(4*4*64, 500)\n",
        "        self.dropout = nn.Dropout(0.2)\n",
        "        self.linear2 = nn.Linear(500, 10)\n",
        "\n",
        "    def forward(self, img_batch):\n",
        "        a = F.relu(self.conv1(img_batch))\n",
        "        a = self.pool(a)\n",
        "        a = F.relu(self.conv2(a))\n",
        "        a = self.pool(a)\n",
        "        a = F.relu(self.conv3(a))\n",
        "        a = self.pool(a)\n",
        "        a = F.relu(self.linear1(a.flatten(1)))           # flatten the last three dimensions of the tensor\n",
        "        output = self.linear2(self.dropout(a))\n",
        "        return output"
      ],
      "metadata": {
        "id": "QsG6u8PVtH_U"
      },
      "execution_count": 23,
      "outputs": []
    },
    {
      "cell_type": "code",
      "source": [
        "b = torch.ones(100, 2, 5, 5)\n",
        "b = b.flatten(1)\n",
        "b.shape"
      ],
      "metadata": {
        "colab": {
          "base_uri": "https://localhost:8080/"
        },
        "id": "EIzZZ0L1zQop",
        "outputId": "5d41fba5-d9ca-47b8-8d3c-2545d5426662"
      },
      "execution_count": 24,
      "outputs": [
        {
          "output_type": "execute_result",
          "data": {
            "text/plain": [
              "torch.Size([100, 50])"
            ]
          },
          "metadata": {},
          "execution_count": 24
        }
      ]
    },
    {
      "cell_type": "code",
      "source": [
        "def train(dataset, loader, model, crit, optimizer, epochs):\n",
        "\n",
        "    device = torch.device('cuda:0' if torch.cuda.is_available() else 'cpu')   # pick the GPU if it is available\n",
        "    print(\"Device:\", device)\n",
        "    model = model.to(device)          # passes the model to the selected device\n",
        "    model.train()                     # sets the model into training mode\n",
        "\n",
        "    for epoch in range(epochs):\n",
        "        full_loss = 0.0\n",
        "        n_correct = 0\n",
        "\n",
        "        for img_batch, labels in tqdm(loader):      # tqdm displays a progress bar as we iterate through the loop\n",
        "            img_batch = img_batch.to(device)\n",
        "            labels = labels.to(device)\n",
        "\n",
        "            optimizer.zero_grad()\n",
        "            outputs = model.forward(img_batch)\n",
        "            predicted = outputs.argmax(dim=1)\n",
        "            loss = crit(outputs, labels)\n",
        "            loss.backward()\n",
        "            optimizer.step()\n",
        "\n",
        "            # we want the loss for every single training example so that we can calculate the average loss over the entire dataset\n",
        "            full_loss += loss.item() * len(labels)\n",
        "            n_correct += (predicted == labels.data).sum()     # keep track of the number of correct predictions to calculate accuracy\n",
        "\n",
        "        average_loss = full_loss / len(dataset)\n",
        "        accuracy = n_correct / len(dataset) * 100\n",
        "\n",
        "        print(f\"Epoch {epoch+1} training average loss: {average_loss:.3f}\",\n",
        "              f\"with {accuracy:.2f}% accuracy\")\n",
        "\n",
        "\n",
        "def test(dataset, loader, model):\n",
        "    device = torch.device('cuda:0' if torch.cuda.is_available() else 'cpu')   # pick the GPU if it is available\n",
        "    print(\"Device:\", device)\n",
        "    model = model.to(device)\n",
        "    model.eval()        # set the model to testing mode\n",
        "\n",
        "    n_correct = 0\n",
        "    with torch.no_grad():                       #torch.no_grad() disables computing gradients\n",
        "        for img_batch, labels in tqdm(loader):\n",
        "            img_batch = img_batch.to(device)\n",
        "            labels = labels.to(device)\n",
        "            outputs = model(img_batch)\n",
        "            predicted = outputs.argmax(dim=1)\n",
        "            n_correct += (predicted == labels.data).sum()\n",
        "\n",
        "    accuracy = n_correct / len(dataset) * 100\n",
        "    print(f\"Test accuracy: {accuracy:.2f}%\")"
      ],
      "metadata": {
        "id": "ntFVxEsg1Ayp"
      },
      "execution_count": 25,
      "outputs": []
    },
    {
      "cell_type": "code",
      "source": [
        "model = ImageClassifier2()\n",
        "crit = nn.CrossEntropyLoss()\n",
        "optimizer = optim.SGD(model.parameters(), lr=0.01, momentum=0.9)"
      ],
      "metadata": {
        "id": "la81esaIDVY_"
      },
      "execution_count": 26,
      "outputs": []
    },
    {
      "cell_type": "code",
      "source": [
        "for _ in range(5):\n",
        "    train(train_data, train_loader, model, crit, optimizer, 3)\n",
        "    test(test_data, test_loader, model)"
      ],
      "metadata": {
        "colab": {
          "base_uri": "https://localhost:8080/"
        },
        "id": "OQg9sXYIII9Q",
        "outputId": "231896a3-74af-43b8-f3df-cc5000cfffe3"
      },
      "execution_count": 27,
      "outputs": [
        {
          "output_type": "stream",
          "name": "stdout",
          "text": [
            "Device: cuda:0\n"
          ]
        },
        {
          "output_type": "stream",
          "name": "stderr",
          "text": [
            "100%|██████████| 500/500 [00:15<00:00, 33.17it/s]\n"
          ]
        },
        {
          "output_type": "stream",
          "name": "stdout",
          "text": [
            "Epoch 1 training average loss: 1.936 with 28.42% accuracy\n"
          ]
        },
        {
          "output_type": "stream",
          "name": "stderr",
          "text": [
            "100%|██████████| 500/500 [00:14<00:00, 33.40it/s]\n"
          ]
        },
        {
          "output_type": "stream",
          "name": "stdout",
          "text": [
            "Epoch 2 training average loss: 1.396 with 49.47% accuracy\n"
          ]
        },
        {
          "output_type": "stream",
          "name": "stderr",
          "text": [
            "100%|██████████| 500/500 [00:14<00:00, 33.67it/s]\n"
          ]
        },
        {
          "output_type": "stream",
          "name": "stdout",
          "text": [
            "Epoch 3 training average loss: 1.159 with 58.68% accuracy\n",
            "Device: cuda:0\n"
          ]
        },
        {
          "output_type": "stream",
          "name": "stderr",
          "text": [
            "100%|██████████| 100/100 [00:02<00:00, 40.79it/s]\n"
          ]
        },
        {
          "output_type": "stream",
          "name": "stdout",
          "text": [
            "Test accuracy: 61.47%\n",
            "Device: cuda:0\n"
          ]
        },
        {
          "output_type": "stream",
          "name": "stderr",
          "text": [
            "100%|██████████| 500/500 [00:16<00:00, 29.56it/s]\n"
          ]
        },
        {
          "output_type": "stream",
          "name": "stdout",
          "text": [
            "Epoch 1 training average loss: 0.996 with 64.80% accuracy\n"
          ]
        },
        {
          "output_type": "stream",
          "name": "stderr",
          "text": [
            "100%|██████████| 500/500 [00:14<00:00, 33.74it/s]\n"
          ]
        },
        {
          "output_type": "stream",
          "name": "stdout",
          "text": [
            "Epoch 2 training average loss: 0.879 with 69.09% accuracy\n"
          ]
        },
        {
          "output_type": "stream",
          "name": "stderr",
          "text": [
            "100%|██████████| 500/500 [00:15<00:00, 33.31it/s]\n"
          ]
        },
        {
          "output_type": "stream",
          "name": "stdout",
          "text": [
            "Epoch 3 training average loss: 0.775 with 72.67% accuracy\n",
            "Device: cuda:0\n"
          ]
        },
        {
          "output_type": "stream",
          "name": "stderr",
          "text": [
            "100%|██████████| 100/100 [00:02<00:00, 41.66it/s]\n"
          ]
        },
        {
          "output_type": "stream",
          "name": "stdout",
          "text": [
            "Test accuracy: 69.85%\n",
            "Device: cuda:0\n"
          ]
        },
        {
          "output_type": "stream",
          "name": "stderr",
          "text": [
            "100%|██████████| 500/500 [00:14<00:00, 33.64it/s]\n"
          ]
        },
        {
          "output_type": "stream",
          "name": "stdout",
          "text": [
            "Epoch 1 training average loss: 0.698 with 75.56% accuracy\n"
          ]
        },
        {
          "output_type": "stream",
          "name": "stderr",
          "text": [
            "100%|██████████| 500/500 [00:14<00:00, 33.56it/s]\n"
          ]
        },
        {
          "output_type": "stream",
          "name": "stdout",
          "text": [
            "Epoch 2 training average loss: 0.630 with 77.88% accuracy\n"
          ]
        },
        {
          "output_type": "stream",
          "name": "stderr",
          "text": [
            "100%|██████████| 500/500 [00:15<00:00, 33.21it/s]\n"
          ]
        },
        {
          "output_type": "stream",
          "name": "stdout",
          "text": [
            "Epoch 3 training average loss: 0.560 with 80.36% accuracy\n",
            "Device: cuda:0\n"
          ]
        },
        {
          "output_type": "stream",
          "name": "stderr",
          "text": [
            "100%|██████████| 100/100 [00:03<00:00, 31.36it/s]\n"
          ]
        },
        {
          "output_type": "stream",
          "name": "stdout",
          "text": [
            "Test accuracy: 74.43%\n",
            "Device: cuda:0\n"
          ]
        },
        {
          "output_type": "stream",
          "name": "stderr",
          "text": [
            "100%|██████████| 500/500 [00:15<00:00, 33.07it/s]\n"
          ]
        },
        {
          "output_type": "stream",
          "name": "stdout",
          "text": [
            "Epoch 1 training average loss: 0.495 with 82.58% accuracy\n"
          ]
        },
        {
          "output_type": "stream",
          "name": "stderr",
          "text": [
            "100%|██████████| 500/500 [00:15<00:00, 31.69it/s]\n"
          ]
        },
        {
          "output_type": "stream",
          "name": "stdout",
          "text": [
            "Epoch 2 training average loss: 0.433 with 84.69% accuracy\n"
          ]
        },
        {
          "output_type": "stream",
          "name": "stderr",
          "text": [
            "100%|██████████| 500/500 [00:15<00:00, 32.85it/s]\n"
          ]
        },
        {
          "output_type": "stream",
          "name": "stdout",
          "text": [
            "Epoch 3 training average loss: 0.379 with 86.53% accuracy\n",
            "Device: cuda:0\n"
          ]
        },
        {
          "output_type": "stream",
          "name": "stderr",
          "text": [
            "100%|██████████| 100/100 [00:02<00:00, 38.90it/s]\n"
          ]
        },
        {
          "output_type": "stream",
          "name": "stdout",
          "text": [
            "Test accuracy: 74.34%\n",
            "Device: cuda:0\n"
          ]
        },
        {
          "output_type": "stream",
          "name": "stderr",
          "text": [
            "100%|██████████| 500/500 [00:15<00:00, 31.76it/s]\n"
          ]
        },
        {
          "output_type": "stream",
          "name": "stdout",
          "text": [
            "Epoch 1 training average loss: 0.329 with 88.38% accuracy\n"
          ]
        },
        {
          "output_type": "stream",
          "name": "stderr",
          "text": [
            "100%|██████████| 500/500 [00:15<00:00, 32.08it/s]\n"
          ]
        },
        {
          "output_type": "stream",
          "name": "stdout",
          "text": [
            "Epoch 2 training average loss: 0.287 with 89.78% accuracy\n"
          ]
        },
        {
          "output_type": "stream",
          "name": "stderr",
          "text": [
            "100%|██████████| 500/500 [00:15<00:00, 33.18it/s]\n"
          ]
        },
        {
          "output_type": "stream",
          "name": "stdout",
          "text": [
            "Epoch 3 training average loss: 0.248 with 91.22% accuracy\n",
            "Device: cuda:0\n"
          ]
        },
        {
          "output_type": "stream",
          "name": "stderr",
          "text": [
            "100%|██████████| 100/100 [00:02<00:00, 40.36it/s]"
          ]
        },
        {
          "output_type": "stream",
          "name": "stdout",
          "text": [
            "Test accuracy: 75.07%\n"
          ]
        },
        {
          "output_type": "stream",
          "name": "stderr",
          "text": [
            "\n"
          ]
        }
      ]
    },
    {
      "cell_type": "code",
      "source": [
        "# Saving the trained model\n",
        "PATH = \"CIFAR10_Dataset/trained_model.pth\"\n",
        "torch.save(model.state_dict(), PATH)"
      ],
      "metadata": {
        "id": "zCjycUXpkhch"
      },
      "execution_count": null,
      "outputs": []
    },
    {
      "cell_type": "code",
      "source": [
        "# Saved Parameters\n",
        "for par in model.state_dict():\n",
        "    print(par)"
      ],
      "metadata": {
        "id": "gL0LrtnR52rX",
        "outputId": "91ae12b3-05ff-4c93-e135-831e03d78041",
        "colab": {
          "base_uri": "https://localhost:8080/"
        }
      },
      "execution_count": null,
      "outputs": [
        {
          "output_type": "stream",
          "name": "stdout",
          "text": [
            "conv1.weight\n",
            "conv1.bias\n",
            "conv2.weight\n",
            "conv2.bias\n",
            "conv3.weight\n",
            "conv3.bias\n",
            "linear1.weight\n",
            "linear1.bias\n",
            "linear2.weight\n",
            "linear2.bias\n"
          ]
        }
      ]
    },
    {
      "cell_type": "code",
      "source": [
        "# Loading the saved model\n",
        "model = ImageClassifier2()\n",
        "model.load_state_dict(torch.load(PATH))"
      ],
      "metadata": {
        "colab": {
          "base_uri": "https://localhost:8080/"
        },
        "id": "Yqu8UmcjwmJr",
        "outputId": "e58464cd-c5c9-4d1b-ab23-9917108977f2"
      },
      "execution_count": null,
      "outputs": [
        {
          "output_type": "execute_result",
          "data": {
            "text/plain": [
              "<All keys matched successfully>"
            ]
          },
          "metadata": {},
          "execution_count": 21
        }
      ]
    },
    {
      "cell_type": "code",
      "source": [
        "test(test_data, test_loader, model)"
      ],
      "metadata": {
        "colab": {
          "base_uri": "https://localhost:8080/"
        },
        "id": "BMqe8LJh45B1",
        "outputId": "71aa0063-ec2f-4b32-fb52-d5121d25d539"
      },
      "execution_count": null,
      "outputs": [
        {
          "output_type": "stream",
          "name": "stdout",
          "text": [
            "Device: cuda:0\n"
          ]
        },
        {
          "output_type": "stream",
          "name": "stderr",
          "text": [
            "100%|██████████| 100/100 [00:03<00:00, 27.27it/s]"
          ]
        },
        {
          "output_type": "stream",
          "name": "stdout",
          "text": [
            "Test accuracy: 73.87%\n"
          ]
        },
        {
          "output_type": "stream",
          "name": "stderr",
          "text": [
            "\n"
          ]
        }
      ]
    },
    {
      "cell_type": "code",
      "source": [
        "import random\n",
        "data_iter = iter(test_loader)\n",
        "images, labels = next(data_iter)\n",
        "images, labels = images.cuda(), labels.cuda()"
      ],
      "metadata": {
        "id": "VMNmlViEvEn6"
      },
      "execution_count": null,
      "outputs": []
    },
    {
      "cell_type": "code",
      "source": [
        "outputs = model(images)\n",
        "predicted = outputs.argmax(dim=1)"
      ],
      "metadata": {
        "id": "a7bc8fUI-wZX"
      },
      "execution_count": null,
      "outputs": []
    },
    {
      "cell_type": "code",
      "source": [
        "i = random.randint(0, len(labels) - 1)\n",
        "img, label = images[i].cpu(), labels[i].cpu()\n",
        "plt.imshow(img.permute(1, 2, 0))\n",
        "print(f\"Actual: {classes[label]}\")\n",
        "print(f\"Predicted: {classes[predicted[i]]}\")"
      ],
      "metadata": {
        "colab": {
          "base_uri": "https://localhost:8080/",
          "height": 484
        },
        "id": "Aa0Cfnn39cOH",
        "outputId": "d9f7fe77-692d-431a-bee5-7aed54b9f82b"
      },
      "execution_count": null,
      "outputs": [
        {
          "output_type": "stream",
          "name": "stderr",
          "text": [
            "WARNING:matplotlib.image:Clipping input data to the valid range for imshow with RGB data ([0..1] for floats or [0..255] for integers).\n"
          ]
        },
        {
          "output_type": "stream",
          "name": "stdout",
          "text": [
            "Actual: dog\n",
            "Predicted: dog\n"
          ]
        },
        {
          "output_type": "display_data",
          "data": {
            "text/plain": [
              "<Figure size 640x480 with 1 Axes>"
            ],
            "image/png": "[encoded data removed]"
          },
          "metadata": {}
        }
      ]
    }
  ]
}