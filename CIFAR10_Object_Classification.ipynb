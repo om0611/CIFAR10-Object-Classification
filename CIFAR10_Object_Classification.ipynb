{
  "nbformat": 4,
  "nbformat_minor": 0,
  "metadata": {
    "colab": {
      "provenance": [],
      "gpuType": "T4"
    },
    "kernelspec": {
      "name": "python3",
      "display_name": "Python 3"
    },
    "language_info": {
      "name": "python"
    },
    "accelerator": "GPU"
  },
  "cells": [
    {
      "cell_type": "code",
      "execution_count": 1,
      "metadata": {
        "id": "k95CqlY24gm1"
      },
      "outputs": [],
      "source": [
        "import torch\n",
        "import numpy as np\n",
        "import torch.nn as nn\n",
        "import torch.nn.functional as F\n",
        "import torch.optim as optim\n",
        "import matplotlib.pyplot as plt\n",
        "from torchvision import datasets, transforms\n",
        "from torch.utils.data import DataLoader\n",
        "from tqdm import tqdm"
      ]
    },
    {
      "cell_type": "code",
      "source": [
        "# Load and Normalize the data\n",
        "t = transforms.Compose([transforms.ToTensor(),\n",
        "                        transforms.Normalize(mean=(0.5, 0.5, 0.5), std=(0.5, 0.5, 0.5))])   # means and std for each channel\n",
        "\n",
        "train_data = datasets.CIFAR10(root='CIFAR10_Dataset', train=True, download = True, transform=t)\n",
        "test_data = datasets.CIFAR10(root='CIFAR10_Dataset', train=False, download = False, transform=t)"
      ],
      "metadata": {
        "colab": {
          "base_uri": "https://localhost:8080/"
        },
        "id": "umY5A8WJgMNY",
        "outputId": "d34e3cd0-1276-45cf-f2d2-4b64efc52fb8"
      },
      "execution_count": 2,
      "outputs": [
        {
          "output_type": "stream",
          "name": "stdout",
          "text": [
            "Downloading https://www.cs.toronto.edu/~kriz/cifar-10-python.tar.gz to CIFAR10_Dataset/cifar-10-python.tar.gz\n"
          ]
        },
        {
          "output_type": "stream",
          "name": "stderr",
          "text": [
            "100%|██████████| 170M/170M [00:04<00:00, 35.1MB/s]\n"
          ]
        },
        {
          "output_type": "stream",
          "name": "stdout",
          "text": [
            "Extracting CIFAR10_Dataset/cifar-10-python.tar.gz to CIFAR10_Dataset\n"
          ]
        }
      ]
    },
    {
      "cell_type": "code",
      "source": [
        "train_loader = DataLoader(dataset=train_data, batch_size=100, shuffle=True)\n",
        "test_loader = DataLoader(dataset=test_data, batch_size=100, shuffle=True)"
      ],
      "metadata": {
        "id": "xI-DYRNcG4bb"
      },
      "execution_count": 3,
      "outputs": []
    },
    {
      "cell_type": "code",
      "source": [
        "classes = ('plane', 'car', 'bird', 'cat', 'deer', 'dog', 'frog', 'horse', 'ship', 'truck')"
      ],
      "metadata": {
        "id": "VjdaU_8bsUxq"
      },
      "execution_count": 4,
      "outputs": []
    },
    {
      "cell_type": "code",
      "source": [
        "# Visualizing the normalized data\n",
        "img, label = train_data[15]\n",
        "plt.figure(figsize=(2, 2))\n",
        "plt.imshow(img.permute(1, 2, 0))\n",
        "print(classes[label])"
      ],
      "metadata": {
        "colab": {
          "base_uri": "https://localhost:8080/",
          "height": 253
        },
        "id": "XTB1zX6cs4Nl",
        "outputId": "db2785e0-4e56-488d-ee00-d66745aee81b"
      },
      "execution_count": 5,
      "outputs": [
        {
          "output_type": "stream",
          "name": "stderr",
          "text": [
            "WARNING:matplotlib.image:Clipping input data to the valid range for imshow with RGB data ([0..1] for floats or [0..255] for integers).\n"
          ]
        },
        {
          "output_type": "stream",
          "name": "stdout",
          "text": [
            "truck\n"
          ]
        },
        {
          "output_type": "display_data",
          "data": {
            "text/plain": [
              "<Figure size 200x200 with 1 Axes>"
            ],
            "image/png": "[encoded data removed]"
          },
          "metadata": {}
        }
      ]
    },
    {
      "cell_type": "code",
      "source": [
        "for img, label in train_loader:\n",
        "    print(img.shape)\n",
        "    print(label.shape)\n",
        "    break"
      ],
      "metadata": {
        "colab": {
          "base_uri": "https://localhost:8080/"
        },
        "id": "OUsQAwpSHXra",
        "outputId": "ddc1e0fa-d9e1-421a-94fe-5761dc7cd81b"
      },
      "execution_count": 6,
      "outputs": [
        {
          "output_type": "stream",
          "name": "stdout",
          "text": [
            "torch.Size([100, 3, 32, 32])\n",
            "torch.Size([100])\n"
          ]
        }
      ]
    },
    {
      "cell_type": "code",
      "source": [
        "# Regular Neural Network\n",
        "class ImageClassifier(nn.Module):\n",
        "\n",
        "    def __init__(self):\n",
        "        super(ImageClassifier, self).__init__()\n",
        "        self.layer1 = nn.Linear(32*32*3, 512)\n",
        "        self.layer2 = nn.Linear(512, 256)\n",
        "        self.layer3 = nn.Linear(256, 10)\n",
        "        self.dropout1 = nn.Dropout(0.4)     # Drop out 40% of the neurons\n",
        "        self.dropout2 = nn.Dropout(0.4)\n",
        "        self.dropout3 = nn.Dropout(0.4)\n",
        "        self.batch_norm1 = nn.BatchNorm1d(512)      # Normalize the output from layer 1\n",
        "        self.batch_norm2 = nn.BatchNorm1d(256)      # Normalize the output from layer 2\n",
        "\n",
        "    def forward(self, img_batch):\n",
        "        activation1 = F.relu(self.batch_norm1(self.layer1(self.dropout1(img_batch))))\n",
        "        activation2 = F.relu(self.batch_norm2(self.layer2(self.dropout2(activation1))))\n",
        "        output = self.layer3(self.dropout3(activation2))\n",
        "        return output\n",
        "\n",
        "# Convolutional Neural Network\n",
        "class ImageClassifier2(nn.Module):\n",
        "\n",
        "    def __init__(self):\n",
        "        super(ImageClassifier2, self).__init__()\n",
        "        self.conv1 = nn.Conv2d(in_channels=3, out_channels=16, kernel_size=3, padding=1)\n",
        "        # 32 + 2(1) - 3 + 1 = 32  (see formula in pytorch documentation)\n",
        "        self.pool = nn.MaxPool2d(kernel_size=2, stride=2)\n",
        "        # 32 / 2 = 16\n",
        "        self.conv2 = nn.Conv2d(in_channels=16, out_channels=32, kernel_size=3, padding=1)\n",
        "        # 16 + 2(1) - 3 + 1 = 16\n",
        "        # pooling layer: 16 / 2 = 8\n",
        "        self.conv3 = nn.Conv2d(in_channels=32, out_channels=64, kernel_size=3, padding=1)\n",
        "        # 8 + 2(1) - 3 + 1 = 8\n",
        "        # pooling layer: 8 / 2 = 4\n",
        "        # final shape = (100, 64, 4, 4)\n",
        "        self.linear1 = nn.Linear(4*4*64, 500)\n",
        "        self.dropout = nn.Dropout(0.2)\n",
        "        self.linear2 = nn.Linear(500, 10)\n",
        "\n",
        "    def forward(self, img_batch):\n",
        "        a = F.relu(self.conv1(img_batch))\n",
        "        a = self.pool(a)\n",
        "        a = F.relu(self.conv2(a))\n",
        "        a = self.pool(a)\n",
        "        a = F.relu(self.conv3(a))\n",
        "        a = self.pool(a)\n",
        "        a = F.relu(self.linear1(a.flatten(1)))           # flatten the last three dimensions of the tensor\n",
        "        output = self.linear2(self.dropout(a))\n",
        "        return output"
      ],
      "metadata": {
        "id": "QsG6u8PVtH_U"
      },
      "execution_count": 7,
      "outputs": []
    },
    {
      "cell_type": "code",
      "source": [
        "b = torch.ones(100, 2, 5, 5)\n",
        "b = b.flatten(1)\n",
        "b.shape"
      ],
      "metadata": {
        "colab": {
          "base_uri": "https://localhost:8080/"
        },
        "id": "EIzZZ0L1zQop",
        "outputId": "639a2160-a571-4d92-e3db-0f15b9a15771"
      },
      "execution_count": 8,
      "outputs": [
        {
          "output_type": "execute_result",
          "data": {
            "text/plain": [
              "torch.Size([100, 50])"
            ]
          },
          "metadata": {},
          "execution_count": 8
        }
      ]
    },
    {
      "cell_type": "code",
      "source": [
        "def train(dataset, loader, model, crit, optimizer, epochs):\n",
        "\n",
        "    device = torch.device('cuda:0' if torch.cuda.is_available() else 'cpu')   # pick the GPU if it is available\n",
        "    print(\"Device:\", device)\n",
        "    model = model.to(device)          # passes the model to the selected device\n",
        "    model.train()                     # sets the model into training mode\n",
        "\n",
        "    for epoch in range(epochs):\n",
        "        full_loss = 0.0\n",
        "        n_correct = 0\n",
        "\n",
        "        for img_batch, labels in tqdm(loader):      # tqdm displays a progress bar as we iterate through the loop\n",
        "            img_batch = img_batch.to(device)\n",
        "            labels = labels.to(device)\n",
        "\n",
        "            optimizer.zero_grad()\n",
        "            outputs = model.forward(img_batch)\n",
        "            predicted = outputs.argmax(dim=1)\n",
        "            loss = crit(outputs, labels)\n",
        "            loss.backward()\n",
        "            optimizer.step()\n",
        "\n",
        "            # we want the loss for every single training example so that we can calculate the average loss over the entire dataset\n",
        "            full_loss += loss.item() * len(labels)\n",
        "            n_correct += (predicted == labels.data).sum()     # keep track of the number of correct predictions to calculate accuracy\n",
        "\n",
        "        average_loss = full_loss / len(dataset)\n",
        "        accuracy = n_correct / len(dataset) * 100\n",
        "\n",
        "        print(f\"Epoch {epoch+1} training average loss: {average_loss:.3f}\",\n",
        "              f\"with {accuracy:.2f}% accuracy\")\n",
        "\n",
        "\n",
        "def test(dataset, loader, model):\n",
        "    device = torch.device('cuda:0' if torch.cuda.is_available() else 'cpu')   # pick the GPU if it is available\n",
        "    print(\"Device:\", device)\n",
        "    model = model.to(device)\n",
        "    model.eval()        # set the model to testing mode\n",
        "\n",
        "    n_correct = 0\n",
        "    with torch.no_grad():                       #torch.no_grad() disables computing gradients\n",
        "        for img_batch, labels in tqdm(loader):\n",
        "            img_batch = img_batch.to(device)\n",
        "            labels = labels.to(device)\n",
        "            outputs = model(img_batch)\n",
        "            predicted = outputs.argmax(dim=1)\n",
        "            n_correct += (predicted == labels.data).sum()\n",
        "\n",
        "    accuracy = n_correct / len(dataset) * 100\n",
        "    print(f\"Test accuracy: {accuracy:.2f}%\")"
      ],
      "metadata": {
        "id": "ntFVxEsg1Ayp"
      },
      "execution_count": 9,
      "outputs": []
    },
    {
      "cell_type": "code",
      "source": [
        "model = ImageClassifier2()\n",
        "crit = nn.CrossEntropyLoss()\n",
        "optimizer = optim.SGD(model.parameters(), lr=0.01, momentum=0.9)"
      ],
      "metadata": {
        "id": "la81esaIDVY_"
      },
      "execution_count": 10,
      "outputs": []
    },
    {
      "cell_type": "code",
      "source": [
        "for _ in range(5):\n",
        "    train(train_data, train_loader, model, crit, optimizer, 3)\n",
        "    test(test_data, test_loader, model)"
      ],
      "metadata": {
        "colab": {
          "base_uri": "https://localhost:8080/"
        },
        "id": "OQg9sXYIII9Q",
        "outputId": "ad41c8aa-91cf-436d-aea3-f5a11cf0ff20"
      },
      "execution_count": 11,
      "outputs": [
        {
          "output_type": "stream",
          "name": "stdout",
          "text": [
            "Device: cuda:0\n"
          ]
        },
        {
          "output_type": "stream",
          "name": "stderr",
          "text": [
            "100%|██████████| 500/500 [00:17<00:00, 28.54it/s]\n"
          ]
        },
        {
          "output_type": "stream",
          "name": "stdout",
          "text": [
            "Epoch 1 training average loss: 1.873 with 31.13% accuracy\n"
          ]
        },
        {
          "output_type": "stream",
          "name": "stderr",
          "text": [
            "100%|██████████| 500/500 [00:17<00:00, 29.40it/s]\n"
          ]
        },
        {
          "output_type": "stream",
          "name": "stdout",
          "text": [
            "Epoch 2 training average loss: 1.371 with 50.25% accuracy\n"
          ]
        },
        {
          "output_type": "stream",
          "name": "stderr",
          "text": [
            "100%|██████████| 500/500 [00:16<00:00, 30.49it/s]\n"
          ]
        },
        {
          "output_type": "stream",
          "name": "stdout",
          "text": [
            "Epoch 3 training average loss: 1.142 with 59.15% accuracy\n",
            "Device: cuda:0\n"
          ]
        },
        {
          "output_type": "stream",
          "name": "stderr",
          "text": [
            "100%|██████████| 100/100 [00:02<00:00, 35.46it/s]\n"
          ]
        },
        {
          "output_type": "stream",
          "name": "stdout",
          "text": [
            "Test accuracy: 64.06%\n",
            "Device: cuda:0\n"
          ]
        },
        {
          "output_type": "stream",
          "name": "stderr",
          "text": [
            "100%|██████████| 500/500 [00:17<00:00, 29.00it/s]\n"
          ]
        },
        {
          "output_type": "stream",
          "name": "stdout",
          "text": [
            "Epoch 1 training average loss: 0.982 with 65.45% accuracy\n"
          ]
        },
        {
          "output_type": "stream",
          "name": "stderr",
          "text": [
            "100%|██████████| 500/500 [00:16<00:00, 30.45it/s]\n"
          ]
        },
        {
          "output_type": "stream",
          "name": "stdout",
          "text": [
            "Epoch 2 training average loss: 0.863 with 69.68% accuracy\n"
          ]
        },
        {
          "output_type": "stream",
          "name": "stderr",
          "text": [
            "100%|██████████| 500/500 [00:16<00:00, 30.43it/s]\n"
          ]
        },
        {
          "output_type": "stream",
          "name": "stdout",
          "text": [
            "Epoch 3 training average loss: 0.771 with 73.05% accuracy\n",
            "Device: cuda:0\n"
          ]
        },
        {
          "output_type": "stream",
          "name": "stderr",
          "text": [
            "100%|██████████| 100/100 [00:03<00:00, 31.93it/s]\n"
          ]
        },
        {
          "output_type": "stream",
          "name": "stdout",
          "text": [
            "Test accuracy: 70.25%\n",
            "Device: cuda:0\n"
          ]
        },
        {
          "output_type": "stream",
          "name": "stderr",
          "text": [
            "100%|██████████| 500/500 [00:16<00:00, 29.45it/s]\n"
          ]
        },
        {
          "output_type": "stream",
          "name": "stdout",
          "text": [
            "Epoch 1 training average loss: 0.700 with 75.43% accuracy\n"
          ]
        },
        {
          "output_type": "stream",
          "name": "stderr",
          "text": [
            "100%|██████████| 500/500 [00:16<00:00, 30.26it/s]\n"
          ]
        },
        {
          "output_type": "stream",
          "name": "stdout",
          "text": [
            "Epoch 2 training average loss: 0.627 with 78.04% accuracy\n"
          ]
        },
        {
          "output_type": "stream",
          "name": "stderr",
          "text": [
            "100%|██████████| 500/500 [00:16<00:00, 30.17it/s]\n"
          ]
        },
        {
          "output_type": "stream",
          "name": "stdout",
          "text": [
            "Epoch 3 training average loss: 0.565 with 80.07% accuracy\n",
            "Device: cuda:0\n"
          ]
        },
        {
          "output_type": "stream",
          "name": "stderr",
          "text": [
            "100%|██████████| 100/100 [00:03<00:00, 31.32it/s]\n"
          ]
        },
        {
          "output_type": "stream",
          "name": "stdout",
          "text": [
            "Test accuracy: 72.92%\n",
            "Device: cuda:0\n"
          ]
        },
        {
          "output_type": "stream",
          "name": "stderr",
          "text": [
            "100%|██████████| 500/500 [00:16<00:00, 30.58it/s]\n"
          ]
        },
        {
          "output_type": "stream",
          "name": "stdout",
          "text": [
            "Epoch 1 training average loss: 0.503 with 82.34% accuracy\n"
          ]
        },
        {
          "output_type": "stream",
          "name": "stderr",
          "text": [
            "100%|██████████| 500/500 [00:16<00:00, 30.83it/s]\n"
          ]
        },
        {
          "output_type": "stream",
          "name": "stdout",
          "text": [
            "Epoch 2 training average loss: 0.444 with 84.34% accuracy\n"
          ]
        },
        {
          "output_type": "stream",
          "name": "stderr",
          "text": [
            "100%|██████████| 500/500 [00:26<00:00, 18.65it/s]\n"
          ]
        },
        {
          "output_type": "stream",
          "name": "stdout",
          "text": [
            "Epoch 3 training average loss: 0.397 with 86.05% accuracy\n",
            "Device: cuda:0\n"
          ]
        },
        {
          "output_type": "stream",
          "name": "stderr",
          "text": [
            "100%|██████████| 100/100 [00:06<00:00, 15.36it/s]\n"
          ]
        },
        {
          "output_type": "stream",
          "name": "stdout",
          "text": [
            "Test accuracy: 74.15%\n",
            "Device: cuda:0\n"
          ]
        },
        {
          "output_type": "stream",
          "name": "stderr",
          "text": [
            "100%|██████████| 500/500 [00:26<00:00, 18.70it/s]\n"
          ]
        },
        {
          "output_type": "stream",
          "name": "stdout",
          "text": [
            "Epoch 1 training average loss: 0.347 with 87.72% accuracy\n"
          ]
        },
        {
          "output_type": "stream",
          "name": "stderr",
          "text": [
            "100%|██████████| 500/500 [00:29<00:00, 16.72it/s]\n"
          ]
        },
        {
          "output_type": "stream",
          "name": "stdout",
          "text": [
            "Epoch 2 training average loss: 0.299 with 89.46% accuracy\n"
          ]
        },
        {
          "output_type": "stream",
          "name": "stderr",
          "text": [
            "100%|██████████| 500/500 [00:33<00:00, 14.85it/s]\n"
          ]
        },
        {
          "output_type": "stream",
          "name": "stdout",
          "text": [
            "Epoch 3 training average loss: 0.261 with 90.83% accuracy\n",
            "Device: cuda:0\n"
          ]
        },
        {
          "output_type": "stream",
          "name": "stderr",
          "text": [
            "100%|██████████| 100/100 [00:03<00:00, 25.29it/s]"
          ]
        },
        {
          "output_type": "stream",
          "name": "stdout",
          "text": [
            "Test accuracy: 74.12%\n"
          ]
        },
        {
          "output_type": "stream",
          "name": "stderr",
          "text": [
            "\n"
          ]
        }
      ]
    },
    {
      "cell_type": "markdown",
      "source": [
        "**Saving the trained model**"
      ],
      "metadata": {
        "id": "-MrM0KiuFtRu"
      }
    },
    {
      "cell_type": "code",
      "source": [
        "# Saving the trained model\n",
        "PATH = \"CIFAR10_Dataset/trained_model.pth\"\n",
        "torch.save(model.state_dict(), PATH)"
      ],
      "metadata": {
        "id": "zCjycUXpkhch"
      },
      "execution_count": 12,
      "outputs": []
    },
    {
      "cell_type": "code",
      "source": [
        "# Loading the saved model\n",
        "model = ImageClassifier2()\n",
        "model.load_state_dict(torch.load(PATH))\n",
        "\n",
        "# Test the loaded model\n",
        "test(test_data, test_loader, model)"
      ],
      "metadata": {
        "colab": {
          "base_uri": "https://localhost:8080/"
        },
        "id": "Yqu8UmcjwmJr",
        "outputId": "8c3fa35d-8941-4c99-a6ce-f3553c9b5e51"
      },
      "execution_count": 13,
      "outputs": [
        {
          "output_type": "stream",
          "name": "stderr",
          "text": [
            "<ipython-input-13-78951bd080f1>:3: FutureWarning: You are using `torch.load` with `weights_only=False` (the current default value), which uses the default pickle module implicitly. It is possible to construct malicious pickle data which will execute arbitrary code during unpickling (See https://github.com/pytorch/pytorch/blob/main/SECURITY.md#untrusted-models for more details). In a future release, the default value for `weights_only` will be flipped to `True`. This limits the functions that could be executed during unpickling. Arbitrary objects will no longer be allowed to be loaded via this mode unless they are explicitly allowlisted by the user via `torch.serialization.add_safe_globals`. We recommend you start setting `weights_only=True` for any use case where you don't have full control of the loaded file. Please open an issue on GitHub for any issues related to this experimental feature.\n",
            "  model.load_state_dict(torch.load(PATH))\n"
          ]
        },
        {
          "output_type": "stream",
          "name": "stdout",
          "text": [
            "Device: cuda:0\n"
          ]
        },
        {
          "output_type": "stream",
          "name": "stderr",
          "text": [
            "100%|██████████| 100/100 [00:04<00:00, 22.17it/s]"
          ]
        },
        {
          "output_type": "stream",
          "name": "stdout",
          "text": [
            "Test accuracy: 74.12%\n"
          ]
        },
        {
          "output_type": "stream",
          "name": "stderr",
          "text": [
            "\n"
          ]
        }
      ]
    },
    {
      "cell_type": "markdown",
      "source": [
        "**For Demonstration**"
      ],
      "metadata": {
        "id": "be0PKwHZFmvY"
      }
    },
    {
      "cell_type": "code",
      "source": [
        "data = datasets.CIFAR10(root='CIFAR10_Dataset', train=False, download = False, transform=transforms.ToTensor())\n",
        "data_loader = DataLoader(dataset=data, batch_size=1000, shuffle=True)\n",
        "data_iter = iter(data_loader)\n",
        "images, labels = next(data_iter)\n",
        "images, labels = images.cuda(), labels.cuda()"
      ],
      "metadata": {
        "id": "VMNmlViEvEn6"
      },
      "execution_count": 18,
      "outputs": []
    },
    {
      "cell_type": "code",
      "source": [
        "outputs = model(images)\n",
        "predicted = outputs.argmax(dim=1)"
      ],
      "metadata": {
        "id": "a7bc8fUI-wZX"
      },
      "execution_count": 19,
      "outputs": []
    },
    {
      "cell_type": "code",
      "source": [
        "import random\n",
        "\n",
        "i = random.randint(0, len(labels) - 1)\n",
        "img, label = images[i].cpu(), labels[i].cpu()\n",
        "plt.figure(figsize=(2, 2))\n",
        "plt.imshow(img.permute(1, 2, 0))\n",
        "print(f\"Actual: {classes[label]}\")\n",
        "print(f\"Predicted: {classes[predicted[i]]}\")"
      ],
      "metadata": {
        "colab": {
          "base_uri": "https://localhost:8080/",
          "height": 253
        },
        "id": "Aa0Cfnn39cOH",
        "outputId": "42edce95-bd03-4abf-be56-f04d425c846c"
      },
      "execution_count": 47,
      "outputs": [
        {
          "output_type": "stream",
          "name": "stdout",
          "text": [
            "Actual: cat\n",
            "Predicted: cat\n"
          ]
        },
        {
          "output_type": "display_data",
          "data": {
            "text/plain": [
              "<Figure size 200x200 with 1 Axes>"
            ],
            "image/png": "[encoded data removed]"
          },
          "metadata": {}
        }
      ]
    },
    {
      "cell_type": "code",
      "source": [],
      "metadata": {
        "id": "ffT_SdKIGCTa"
      },
      "execution_count": 21,
      "outputs": []
    }
  ]
}